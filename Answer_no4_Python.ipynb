{
 "cells": [
  {
   "cell_type": "code",
   "execution_count": null,
   "id": "537b7171-25c6-4e1a-9f09-b2b15ecbdf00",
   "metadata": {},
   "outputs": [],
   "source": [
    "import pandas as pd\n",
    "\n",
    "df = pd.read_json(\"https://data.nasa.gov/resource/y77d-th95.json\")# reading the data\n",
    "\n",
    "df = df.drop([':@computed_region_cbhk_fwbd',':@computed_region_nnqa_25f4','fall'], axis=1)# removing columns which aren't asked\n",
    "\n",
    "df['year']= pd.to_datetime(df['year'],errors = 'coerce')# changing data type to datetime format coerce for out of bound error\n",
    "\n",
    "df['geolocation'] = df['geolocation'].apply(lambda x: x['coordinates'] if isinstance(x, dict) else x)\n",
    "#in upper code we are removing all the unecessary keys, values and returning only value of coordinate as asked\n",
    "\n",
    "df = df.rename(columns={'geolocation':'point coordinates'})# renaming the columns as asked\n",
    "\n",
    "df.to_csv('data.csv',index=False)# returning it in csv format\n"
   ]
  }
 ],
 "metadata": {
  "kernelspec": {
   "display_name": "Python 3 (ipykernel)",
   "language": "python",
   "name": "python3"
  },
  "language_info": {
   "codemirror_mode": {
    "name": "ipython",
    "version": 3
   },
   "file_extension": ".py",
   "mimetype": "text/x-python",
   "name": "python",
   "nbconvert_exporter": "python",
   "pygments_lexer": "ipython3",
   "version": "3.10.6"
  }
 },
 "nbformat": 4,
 "nbformat_minor": 5
}
