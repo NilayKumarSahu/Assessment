{
 "cells": [
  {
   "cell_type": "raw",
   "id": "3929d954-e04d-4507-a4ef-da15b384afdc",
   "metadata": {},
   "source": [
    "a. Measure the dispersion in both and interpret the results. \n",
    "b. Calculate mean and 5% confidence interval and plot it in a graph \n",
    "c. Calculate the Mean absolute deviation and Standard deviation and interpret the results. \n",
    "d. Calculate the correlation coefficient and check the significance of it at 1% level of significance.\n"
   ]
  },
  {
   "cell_type": "code",
   "execution_count": 1,
   "id": "f3e889a7-5068-4d9a-9ecd-a801fc25cbb3",
   "metadata": {},
   "outputs": [],
   "source": [
    "import pandas as pd\n",
    "data = pd.read_csv(\"https://drive.google.com/u/0/uc?id=1mCjtYHiX--mMUjicuaP2gH3k-SnFxt8Y&export=download \")\n",
    "df = pd.DataFrame(data)    "
   ]
  },
  {
   "cell_type": "code",
   "execution_count": 2,
   "id": "f4160192-9880-43bd-8986-8125ad6d702e",
   "metadata": {},
   "outputs": [
    {
     "name": "stdout",
     "output_type": "stream",
     "text": [
      "Standard deviation of Blood Pressure Before (mmHg) 6.598278012275076\n",
      "Standard deviation of Blood Pressure After (mmHg) 6.888022102523226\n"
     ]
    },
    {
     "data": {
      "text/plain": [
       "'Standard deviation of Blood Pressure Before (mmHg) 6.598278012275076 indicates \\nthat the values in data on average is 6.59 units away from the mean\\n\\nStandard deviation of Blood Pressure After (mmHg) 6.888022102523226 indicates that \\nthe values in data on average is 6.88 units away from the mean\\n'"
      ]
     },
     "execution_count": 2,
     "metadata": {},
     "output_type": "execute_result"
    }
   ],
   "source": [
    "#a\n",
    "\n",
    "#Measuring the dispersion in both and interpreting the results\n",
    "import statistics as stats\n",
    "\n",
    "\n",
    "#standard deviation calculation\n",
    "std_bpb = stats.stdev(df[' Blood Pressure Before (mmHg)'])\n",
    "std_bpa = stats.stdev(df[' Blood Pressure After (mmHg)'])\n",
    "\n",
    "print(\"Standard deviation of Blood Pressure Before (mmHg)\", std_bpb)\n",
    "print(\"Standard deviation of Blood Pressure After (mmHg)\", std_bpa)\n",
    "\n",
    "#interpretation\n",
    "'''Standard deviation of Blood Pressure Before (mmHg) 6.598278012275076 indicates \n",
    "that the values in data on average is 6.59 units away from the mean\n",
    "\n",
    "Standard deviation of Blood Pressure After (mmHg) 6.888022102523226 indicates that \n",
    "the values in data on average is 6.88 units away from the mean\n",
    "'''"
   ]
  },
  {
   "cell_type": "code",
   "execution_count": 6,
   "id": "73cc1632-c6d6-4d74-99c1-0559ff3fc794",
   "metadata": {},
   "outputs": [
    {
     "data": {
      "image/png": "[encoded data removed]",
      "text/plain": [
       "<Figure size 1000x600 with 1 Axes>"
      ]
     },
     "metadata": {},
     "output_type": "display_data"
    },
    {
     "ename": "NameError",
     "evalue": "name 'std_error_A' is not defined",
     "output_type": "error",
     "traceback": [
      "\u001b[0;31m---------------------------------------------------------------------------\u001b[0m",
      "\u001b[0;31mNameError\u001b[0m                                 Traceback (most recent call last)",
      "Cell \u001b[0;32mIn [6], line 46\u001b[0m\n\u001b[1;32m     43\u001b[0m std_err_bfa \u001b[38;5;241m=\u001b[39m std_bfa \u001b[38;5;241m/\u001b[39m np\u001b[38;5;241m.\u001b[39msqrt(n)\n\u001b[1;32m     45\u001b[0m \u001b[38;5;66;03m# Calculating 5% confidence interval\u001b[39;00m\n\u001b[0;32m---> 46\u001b[0m ci_bfa \u001b[38;5;241m=\u001b[39m stats\u001b[38;5;241m.\u001b[39mt\u001b[38;5;241m.\u001b[39minterval(\u001b[38;5;241m0.95\u001b[39m, df\u001b[38;5;241m=\u001b[39mn\u001b[38;5;241m-\u001b[39m\u001b[38;5;241m1\u001b[39m, loc\u001b[38;5;241m=\u001b[39mmean_bfa, scale\u001b[38;5;241m=\u001b[39m\u001b[43mstd_error_A\u001b[49m)\n\u001b[1;32m     48\u001b[0m \u001b[38;5;66;03m# Plotting the graph\u001b[39;00m\n\u001b[1;32m     49\u001b[0m plt\u001b[38;5;241m.\u001b[39mfigure(figsize\u001b[38;5;241m=\u001b[39m(\u001b[38;5;241m10\u001b[39m,\u001b[38;5;241m6\u001b[39m))\n",
      "\u001b[0;31mNameError\u001b[0m: name 'std_error_A' is not defined"
     ]
    }
   ],
   "source": [
    "#b\n",
    "\n",
    "import numpy as np\n",
    "import matplotlib.pyplot as plt\n",
    "import scipy.stats as stats\n",
    "\n",
    "# for Blood Pressure Before (mmHg) column\n",
    "\n",
    "# Calculating mean\n",
    "mean_bfb = np.mean(df[' Blood Pressure Before (mmHg)'])\n",
    "\n",
    "# Calculatting standard deviation\n",
    "std_bfb = np.std(df[' Blood Pressure Before (mmHg)'])\n",
    "\n",
    "# getting the  sample size of data\n",
    "n = len(df[' Blood Pressure Before (mmHg)'])\n",
    "\n",
    "# Calculating standard error of data\n",
    "std_err_bfb = std_bfb / np.sqrt(n)\n",
    "\n",
    "# Calculating 5% confidence interval\n",
    "ci_bfb = stats.t.interval(0.95, df=n-1, loc=mean_bfb, scale=std_err_bfb)\n",
    "\n",
    "# Plotting the graph\n",
    "plt.figure(figsize=(10,6))\n",
    "plt.bar(mean_bfb,ci_bfb)\n",
    "plt.xlabel('Mean')\n",
    "plt.ylabel('Confidence Interval')\n",
    "plt.title('Mean and 5% Confidence Interval for BFB')\n",
    "plt.show()\n",
    "\n",
    "# for Blood Pressure After (mmHg) column\n",
    "# Calculating mean\n",
    "mean_bfa = np.mean(df[' Blood Pressure After (mmHg)'])\n",
    "\n",
    "# Calculatting standard deviation\n",
    "std_bfa = np.std(df[' Blood Pressure After (mmHg)'])\n",
    "\n",
    "# getting the  sample size of data\n",
    "n = len(df[' Blood Pressure After (mmHg)'])\n",
    "\n",
    "# Calculating standard error of data\n",
    "std_err_bfa = std_bfa / np.sqrt(n)\n",
    "\n",
    "# Calculating 5% confidence interval\n",
    "ci_bfa = stats.t.interval(0.95, df=n-1, loc=mean_bfa, scale=std_err_)\n",
    "\n",
    "# Plotting the graph\n",
    "plt.figure(figsize=(10,6))\n",
    "plt.bar(mean_bfa,ci_bfa)\n",
    "plt.xlabel('Mean')\n",
    "plt.ylabel('Confidence Interval')\n",
    "plt.title('Mean and 5% Confidence Interval for BFA')\n",
    "plt.show()"
   ]
  },
  {
   "cell_type": "code",
   "execution_count": 4,
   "id": "5b9ad038-de87-4268-981b-b48c91ea6017",
   "metadata": {},
   "outputs": [
    {
     "name": "stdout",
     "output_type": "stream",
     "text": [
      "Mean Absolute Deviation of  Blood Pressure Before (mmHg) : 5.7118\n",
      "Mean Absolute Deviation of Blood Pressure After (mmHg): 5.9\n",
      "Standard Deviation of Blood Pressure Before (mmHg): 6.5652037287505385\n",
      "Standard Deviation of Blood Pressure After (mmHg): 6.853495458523338\n"
     ]
    },
    {
     "data": {
      "text/plain": [
       "' Blood pressure after and blood pressure after are having somewhat similar mean absolute deviation\\nwith blood presure after having slightly higher mad.\\n\\nBlood pressure after and blood pressure after are having somewhat similar Standard Deviation\\nwith blood presure after having slightly higher mad.\\n\\n'"
      ]
     },
     "execution_count": 4,
     "metadata": {},
     "output_type": "execute_result"
    }
   ],
   "source": [
    "#c\n",
    "\n",
    "import numpy as np\n",
    "import statistics as stats\n",
    "\n",
    "col_1 = df[' Blood Pressure Before (mmHg)']\n",
    "col_2 = df[' Blood Pressure After (mmHg)']\n",
    "\n",
    "# Calculating mean absolute deviation\n",
    "mad_1 = stats.mean([abs(x - stats.mean(col_1)) for x in col_1])\n",
    "mad_2 = stats.mean([abs(x - stats.mean(col_2)) for x in col_2])\n",
    "\n",
    "# Calculating standard deviation\n",
    "std_1 = np.std(col_1)\n",
    "std_2 = np.std(col_2)\n",
    "\n",
    "print(\"Mean Absolute Deviation of  Blood Pressure Before (mmHg) :\", mad_1)\n",
    "print(\"Mean Absolute Deviation of Blood Pressure After (mmHg):\", mad_2)\n",
    "print(\"Standard Deviation of Blood Pressure Before (mmHg):\", std_1)\n",
    "print(\"Standard Deviation of Blood Pressure After (mmHg):\", std_2)\n",
    "\n",
    "#Interpretation\n",
    "''' Blood pressure after and blood pressure after are having somewhat similar mean absolute deviation\n",
    "with blood presure after having slightly higher mad.\n",
    "\n",
    "Blood pressure after and blood pressure after are having somewhat similar Standard Deviation\n",
    "with blood presure after having slightly higher mad.\n",
    "\n",
    "'''"
   ]
  },
  {
   "cell_type": "code",
   "execution_count": 5,
   "id": "b1b6e6f6-395d-4c5a-ae5c-a20b078c1a94",
   "metadata": {},
   "outputs": [
    {
     "name": "stdout",
     "output_type": "stream",
     "text": [
      "Correlation Coefficient: 0.9779485966556017\n",
      "Significant\n"
     ]
    }
   ],
   "source": [
    "#d\n",
    "\n",
    "import scipy.stats as stats\n",
    "\n",
    "\n",
    "col_1 = df[' Blood Pressure Before (mmHg)']\n",
    "col_2 = df[' Blood Pressure After (mmHg)']\n",
    "\n",
    "# Calculating the correlation coefficient using pearsonr\n",
    "correlation_coefficient, p_value = stats.pearsonr(col_1, col_2)\n",
    "\n",
    "print(\"Correlation Coefficient:\", correlation_coefficient)\n",
    "\n",
    "\n",
    "# Checking the significance of it at 1% level\n",
    "if p_value < 0.01:\n",
    "    print(\"Significant\")\n",
    "else:\n",
    "    print(\"Not Significant\")\n"
   ]
  },
  {
   "cell_type": "code",
   "execution_count": null,
   "id": "f1083ec1-eae7-4d85-ad72-ba9c1bc30e5f",
   "metadata": {},
   "outputs": [],
   "source": []
  }
 ],
 "metadata": {
  "kernelspec": {
   "display_name": "Python 3 (ipykernel)",
   "language": "python",
   "name": "python3"
  },
  "language_info": {
   "codemirror_mode": {
    "name": "ipython",
    "version": 3
   },
   "file_extension": ".py",
   "mimetype": "text/x-python",
   "name": "python",
   "nbconvert_exporter": "python",
   "pygments_lexer": "ipython3",
   "version": "3.10.6"
  }
 },
 "nbformat": 4,
 "nbformat_minor": 5
}
