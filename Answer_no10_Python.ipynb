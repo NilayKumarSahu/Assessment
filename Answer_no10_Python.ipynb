{
 "cells": [
  {
   "cell_type": "code",
   "execution_count": 1,
   "id": "c70eadd1-2c24-4d27-8415-69055d203df9",
   "metadata": {},
   "outputs": [
    {
     "name": "stdout",
     "output_type": "stream",
     "text": [
      "Requirement already satisfied: textblob in /opt/conda/lib/python3.10/site-packages (0.17.1)\n",
      "Requirement already satisfied: nltk>=3.1 in /opt/conda/lib/python3.10/site-packages (from textblob) (3.8.1)\n",
      "Requirement already satisfied: tqdm in /opt/conda/lib/python3.10/site-packages (from nltk>=3.1->textblob) (4.64.1)\n",
      "Requirement already satisfied: click in /opt/conda/lib/python3.10/site-packages (from nltk>=3.1->textblob) (8.1.3)\n",
      "Requirement already satisfied: regex>=2021.8.3 in /opt/conda/lib/python3.10/site-packages (from nltk>=3.1->textblob) (2023.5.5)\n",
      "Requirement already satisfied: joblib in /opt/conda/lib/python3.10/site-packages (from nltk>=3.1->textblob) (1.2.0)\n",
      "[nltk_data] Downloading package brown to /home/jovyan/nltk_data...\n",
      "[nltk_data]   Package brown is already up-to-date!\n",
      "[nltk_data] Downloading package punkt to /home/jovyan/nltk_data...\n",
      "[nltk_data]   Package punkt is already up-to-date!\n",
      "[nltk_data] Downloading package wordnet to /home/jovyan/nltk_data...\n",
      "[nltk_data]   Package wordnet is already up-to-date!\n",
      "[nltk_data] Downloading package averaged_perceptron_tagger to\n",
      "[nltk_data]     /home/jovyan/nltk_data...\n",
      "[nltk_data]   Package averaged_perceptron_tagger is already up-to-\n",
      "[nltk_data]       date!\n",
      "[nltk_data] Downloading package conll2000 to /home/jovyan/nltk_data...\n",
      "[nltk_data]   Package conll2000 is already up-to-date!\n",
      "[nltk_data] Downloading package movie_reviews to\n",
      "[nltk_data]     /home/jovyan/nltk_data...\n",
      "[nltk_data]   Package movie_reviews is already up-to-date!\n",
      "Finished.\n"
     ]
    }
   ],
   "source": [
    "!pip install textblob\n",
    "!python -m textblob.download_corpora\n",
    "from textblob import TextBlob\n",
    "import logging\n",
    "\n",
    "def part_of_speech_count(text):\n",
    "    logging.basicConfig(filename='code.log', level=logging.DEBUG, format='%(asctime)s - %(levelname)s - %(message)s')\n",
    "    Text = TextBlob(text) #it will create a textblob object which is good for nlp\n",
    "    tagging = Text.tags # it will tag every word accordinginly exa:- 'NN' for noun and so on..\n",
    "    \n",
    "    # creating a dictionary\n",
    "    dic = {'verbs':0, 'nouns':0, 'pronouns':0, 'adjectives':0}\n",
    "    \n",
    "    try:\n",
    "        for text, tag in tagging:\n",
    "                if tag.startswith('VB'):  # 'VB' = verb\n",
    "                        dic['verbs'] += 1 # if found incrementnig the value of verbs with 1\n",
    "                        logging.info(\"Verb one working fine\")\n",
    "                        \n",
    "                elif tag.startswith('NN'):  # 'NN' = noun\n",
    "                        dic['nouns'] += 1 # if found incrementing the value of nouns with 1\n",
    "                        logging.info(\"Noun one working fine\")\n",
    "                        \n",
    "                elif tag.startswith('PRP'):  # 'PRP'= pronoun\n",
    "                        dic['pronouns'] += 1 # if found incrementing the value of pronouns with 1\n",
    "                        logging.info(\"Pronoun one working fine\")\n",
    "                        \n",
    "                elif tag.startswith('JJ'):  # 'JJ' = adjective\n",
    "                        dic['adjectives'] += 1 # if found incrementing the value of adjectives with 1\n",
    "                        logging.info(\"Adjective one working fine\")\n",
    "            \n",
    "        return dic\n",
    "    \n",
    "    except Exception as e:\n",
    "        logging.error(\"An error occured: \", exc_info=True)"
   ]
  },
  {
   "cell_type": "code",
   "execution_count": 2,
   "id": "aa9a44eb-a80d-4a6b-a256-5bf69c50cb43",
   "metadata": {},
   "outputs": [
    {
     "data": {
      "text/plain": [
       "{'verbs': 3, 'nouns': 1, 'pronouns': 3, 'adjectives': 1}"
      ]
     },
     "execution_count": 2,
     "metadata": {},
     "output_type": "execute_result"
    }
   ],
   "source": [
    "text = 'I am doing my beautiful work, are you ?'\n",
    "part_of_speech_count(text)"
   ]
  },
  {
   "cell_type": "code",
   "execution_count": 4,
   "id": "7daed189-888f-470d-8b11-b4027e30a12d",
   "metadata": {},
   "outputs": [
    {
     "data": {
      "text/plain": [
       "{'verbs': 2, 'nouns': 3, 'pronouns': 0, 'adjectives': 1}"
      ]
     },
     "execution_count": 4,
     "metadata": {},
     "output_type": "execute_result"
    }
   ],
   "source": [
    "# Test case no:- 1\n",
    "text = 'Data Science is one of the most exciting domain to work.'\n",
    "part_of_speech_count(text)"
   ]
  },
  {
   "cell_type": "code",
   "execution_count": 5,
   "id": "c6d64be7-d54d-4b94-98f2-634cc7091690",
   "metadata": {},
   "outputs": [
    {
     "data": {
      "text/plain": [
       "{'verbs': 4, 'nouns': 2, 'pronouns': 2, 'adjectives': 0}"
      ]
     },
     "execution_count": 5,
     "metadata": {},
     "output_type": "execute_result"
    }
   ],
   "source": [
    "# Test case no:- 2\n",
    "text = 'I want to be a Data Scientist but for that I have to work hard.'\n",
    "part_of_speech_count(text)"
   ]
  },
  {
   "cell_type": "code",
   "execution_count": null,
   "id": "561be800-e9da-4f7a-bb9f-9fd61de8c202",
   "metadata": {},
   "outputs": [],
   "source": []
  }
 ],
 "metadata": {
  "kernelspec": {
   "display_name": "Python 3 (ipykernel)",
   "language": "python",
   "name": "python3"
  },
  "language_info": {
   "codemirror_mode": {
    "name": "ipython",
    "version": 3
   },
   "file_extension": ".py",
   "mimetype": "text/x-python",
   "name": "python",
   "nbconvert_exporter": "python",
   "pygments_lexer": "ipython3",
   "version": "3.10.6"
  }
 },
 "nbformat": 4,
 "nbformat_minor": 5
}
