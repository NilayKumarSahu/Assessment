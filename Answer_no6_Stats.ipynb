{
 "cells": [
  {
   "cell_type": "code",
   "execution_count": 1,
   "id": "446d9e91-3ca6-4b50-b472-1585ea3fb601",
   "metadata": {},
   "outputs": [],
   "source": [
    "import pandas as pd\n",
    "\n",
    "data = pd.read_csv(\"https://drive.google.com/u/0/uc?id=1mCjtYHiX--mMUjicuaP2gH3k-SnFxt8Y&export=download \")\n",
    "df = pd.DataFrame(data)    "
   ]
  },
  {
   "cell_type": "code",
   "execution_count": 2,
   "id": "719cd74b-5522-4dbe-af16-14a184677ee3",
   "metadata": {},
   "outputs": [],
   "source": [
    "# getting the difference in data\n",
    "raw = df[' Blood Pressure Before (mmHg)']-df[' Blood Pressure After (mmHg)']"
   ]
  },
  {
   "cell_type": "code",
   "execution_count": 3,
   "id": "4cdab101-461c-4ae2-866c-f2375aa4c48c",
   "metadata": {},
   "outputs": [
    {
     "name": "stdout",
     "output_type": "stream",
     "text": [
      "The data does not follow a normal distribution\n"
     ]
    }
   ],
   "source": [
    "from scipy import stats\n",
    "\n",
    "# getting P value using shapiro\n",
    "s, p_value = stats.shapiro(raw)\n",
    "\n",
    "\n",
    "if p_value > 0.05:\n",
    "    print(\"The data follows a normal distribution\")\n",
    "else:\n",
    "    print(\"The data does not follow a normal distribution\")\n"
   ]
  }
 ],
 "metadata": {
  "kernelspec": {
   "display_name": "Python 3 (ipykernel)",
   "language": "python",
   "name": "python3"
  },
  "language_info": {
   "codemirror_mode": {
    "name": "ipython",
    "version": 3
   },
   "file_extension": ".py",
   "mimetype": "text/x-python",
   "name": "python",
   "nbconvert_exporter": "python",
   "pygments_lexer": "ipython3",
   "version": "3.10.6"
  }
 },
 "nbformat": 4,
 "nbformat_minor": 5
}
