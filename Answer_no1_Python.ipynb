{
 "cells": [
  {
   "cell_type": "code",
   "execution_count": 1,
   "id": "34737cd9-4817-4a70-8917-684f232a180e",
   "metadata": {},
   "outputs": [
    {
     "name": "stdin",
     "output_type": "stream",
     "text": [
      "Enter your string \"write write write all the number from from from 1 to 100\"\n"
     ]
    },
    {
     "name": "stdout",
     "output_type": "stream",
     "text": [
      "4\n"
     ]
    }
   ],
   "source": [
    "import logging\n",
    "logging.basicConfig(filename='code.log', level=logging.DEBUG, format='%(asctime)s - %(levelname)s - %(message)s')\n",
    "\n",
    "string = input(\"Enter your string\")\n",
    "logging.info(\"String entered successfully\")\n",
    "words = string.split(\" \")\n",
    "freq = {}\n",
    "List = []\n",
    "\n",
    "try:\n",
    "    for word in words: #iterating over the words\n",
    "        if word in freq:\n",
    "            freq[word] += 1 # if word is found it will add 1\n",
    "        else:\n",
    "            freq[word] = 1 \n",
    "            \n",
    "    max_freq = max(freq.values()) # getting the maximum frequency value\n",
    "    for word in freq:\n",
    "        \n",
    "        if freq[word]==max_freq: # if word in dictionary has maximum value\n",
    "            \n",
    "            List.append(len(word))# appending the word in list\n",
    "            \n",
    "    print(max(List)) # printing the maximum from the list\n",
    "\n",
    "except Exception as e:\n",
    "    logging.error(\"An error has occured\", exc_info=True)"
   ]
  },
  {
   "cell_type": "code",
   "execution_count": 2,
   "id": "31e60ec4-f48d-4e63-aa47-13e5993f1ddb",
   "metadata": {},
   "outputs": [
    {
     "name": "stdin",
     "output_type": "stream",
     "text": [
      "Enter your string \"please please please be careful when handling handling handling fragile fragile items\"\n"
     ]
    },
    {
     "name": "stdout",
     "output_type": "stream",
     "text": [
      "8\n"
     ]
    }
   ],
   "source": [
    "'''Test case 1 :-\n",
    "\n",
    "Enter string \"please please please be careful when handling handling handling fragile fragile items\" \n",
    "You'll notice that it'll return \"9\"\n",
    "because beautiful and explore are the most frequent words\n",
    "but beautiful has the highest numbers of letters that's why it is returning 8.'''\n",
    "\n",
    "import logging\n",
    "logging.basicConfig(filename='code.log', level=logging.DEBUG, format='%(asctime)s - %(levelname)s - %(message)s')\n",
    "\n",
    "string = input(\"Enter your string\")\n",
    "logging.info(\"String entered successfully\")\n",
    "words = string.split(\" \")\n",
    "freq = {}\n",
    "List = []\n",
    "\n",
    "try:\n",
    "    for word in words: #iterating over the words\n",
    "        if word in freq:\n",
    "            freq[word] += 1 # if word is found it will add 1\n",
    "        else:\n",
    "            freq[word] = 1 \n",
    "            \n",
    "    max_freq = max(freq.values()) # getting the maximum frequency value\n",
    "    for word in freq:\n",
    "        \n",
    "        if freq[word]==max_freq: # if word in dictionary has maximum value\n",
    "            \n",
    "            List.append(len(word))# appending the word in list\n",
    "            \n",
    "    print(max(List)) # printing the maximum from the list\n",
    "\n",
    "except Exception as e:\n",
    "    logging.error(\"An error has occured\", exc_info=True)\n",
    "\n",
    "    "
   ]
  },
  {
   "cell_type": "code",
   "execution_count": 3,
   "id": "7046a287-a3ee-42b2-8506-c11255db2b5e",
   "metadata": {},
   "outputs": [
    {
     "name": "stdin",
     "output_type": "stream",
     "text": [
      "Enter your string \"Let's let's let's explore explore explore the the the beautiful beautiful beautiful scenery scenery scenery together\"  You'll notice that it'll return \"8\"\n"
     ]
    },
    {
     "name": "stdout",
     "output_type": "stream",
     "text": [
      "9\n"
     ]
    }
   ],
   "source": [
    "'''Test case 2 :-\n",
    "\n",
    "Enter string \"Let's let's let's explore explore explore the the the beautiful beautiful beautiful scenery scenery scenery together\" \n",
    "You'll notice that it'll return \"8\"\n",
    "because handling and please are the most frequent words\n",
    "but handling has the highest numbers of letters that's why it is returning 8.'''\n",
    "\n",
    "import logging\n",
    "logging.basicConfig(filename='code.log', level=logging.DEBUG, format='%(asctime)s - %(levelname)s - %(message)s')\n",
    "\n",
    "string = input(\"Enter your string\")\n",
    "logging.info(\"String entered successfully\")\n",
    "words = string.split(\" \")\n",
    "freq = {}\n",
    "List = []\n",
    "\n",
    "try:\n",
    "    for word in words: #iterating over the words\n",
    "        if word in freq:\n",
    "            freq[word] += 1 # if word is found it will add 1\n",
    "        else:\n",
    "            freq[word] = 1 \n",
    "            \n",
    "    max_freq = max(freq.values()) # getting the maximum frequency value\n",
    "    for word in freq:\n",
    "        \n",
    "        if freq[word]==max_freq: # if word in dictionary has maximum value\n",
    "            \n",
    "            List.append(len(word))# appending the word in list\n",
    "            \n",
    "    print(max(List)) # printing the maximum from the list\n",
    "\n",
    "except Exception as e:\n",
    "    logging.error(\"An error has occured\", exc_info=True)"
   ]
  }
 ],
 "metadata": {
  "kernelspec": {
   "display_name": "Python 3 (ipykernel)",
   "language": "python",
   "name": "python3"
  },
  "language_info": {
   "codemirror_mode": {
    "name": "ipython",
    "version": 3
   },
   "file_extension": ".py",
   "mimetype": "text/x-python",
   "name": "python",
   "nbconvert_exporter": "python",
   "pygments_lexer": "ipython3",
   "version": "3.10.6"
  }
 },
 "nbformat": 4,
 "nbformat_minor": 5
}
