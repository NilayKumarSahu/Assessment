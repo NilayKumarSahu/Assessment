{
 "cells": [
  {
   "cell_type": "code",
   "execution_count": 1,
   "id": "4f0df934-890a-41aa-81a3-b05291414ad4",
   "metadata": {},
   "outputs": [],
   "source": [
    "import logging\n",
    "def string_validation():\n",
    "    logging.basicConfig(filename='code.log', level=logging.DEBUG, format='%(asctime)s - %(levelname)s - %(message)s')\n",
    "    string = input()\n",
    "    logging.info(\"String Input Successful\")\n",
    "    freq = {}\n",
    "    try:\n",
    "        for letter in string: #iterating over the string\n",
    "                if letter in freq:\n",
    "                        freq[letter] += 1 # if letter is found it will add 1\n",
    "                else:\n",
    "                    freq[letter] = 1 \n",
    "        logging.info(\"Making key value pair successful\")            \n",
    "        if max(freq.values())==1: # if every letter's frequency is 1 it'll print \"Yes\"\n",
    "            print(\"Yes\")\n",
    "        elif max(freq.values()) > 1: # if any of letter's frequency is above 1 it'll print \"No\"\n",
    "            print(\"No\")\n",
    "        logging.info(\"code executed successfully\")    \n",
    "    except Exception as e:\n",
    "        logging.error(\"An error has occured: \",exc_info=True )"
   ]
  },
  {
   "cell_type": "code",
   "execution_count": 2,
   "id": "91bcb3ea-dcc6-437f-be22-e84d124fddd1",
   "metadata": {},
   "outputs": [
    {
     "name": "stdin",
     "output_type": "stream",
     "text": [
      " abc\n"
     ]
    },
    {
     "name": "stdout",
     "output_type": "stream",
     "text": [
      "Yes\n"
     ]
    }
   ],
   "source": [
    "string_validation()"
   ]
  },
  {
   "cell_type": "code",
   "execution_count": 3,
   "id": "a4cb51f0-6344-43de-9999-2ef3f10f760d",
   "metadata": {},
   "outputs": [
    {
     "name": "stdin",
     "output_type": "stream",
     "text": [
      " abcc\n"
     ]
    },
    {
     "name": "stdout",
     "output_type": "stream",
     "text": [
      "No\n"
     ]
    }
   ],
   "source": [
    "string_validation()"
   ]
  },
  {
   "cell_type": "code",
   "execution_count": 4,
   "id": "8a827caf-cdc1-450f-8c4c-e4785e811d29",
   "metadata": {},
   "outputs": [
    {
     "name": "stdin",
     "output_type": "stream",
     "text": [
      " abbbcd\n"
     ]
    },
    {
     "name": "stdout",
     "output_type": "stream",
     "text": [
      "No\n"
     ]
    }
   ],
   "source": [
    "#Test case :- 1\n",
    "\"\"\"\n",
    "We will enter our string as \"abbbcd\"\n",
    "It will print \"No\" because the frequency of b in this string is multiple times\n",
    "\"\"\"\n",
    "string_validation()"
   ]
  },
  {
   "cell_type": "code",
   "execution_count": 5,
   "id": "8f3f8cc0-abf3-4586-83bf-2492c097bf47",
   "metadata": {},
   "outputs": [
    {
     "name": "stdin",
     "output_type": "stream",
     "text": [
      " abcdefg\n"
     ]
    },
    {
     "name": "stdout",
     "output_type": "stream",
     "text": [
      "Yes\n"
     ]
    }
   ],
   "source": [
    "#Test case :- 2\n",
    "\"\"\"\n",
    "We will enter our string as \"abcdefg\"\n",
    "It will print \"Yes\" because the frequency of any letter in this string is not more than one.\n",
    "\"\"\"\n",
    "string_validation()"
   ]
  },
  {
   "cell_type": "code",
   "execution_count": null,
   "id": "284eec29-e537-43ec-b786-48b0066b2d42",
   "metadata": {},
   "outputs": [],
   "source": []
  }
 ],
 "metadata": {
  "kernelspec": {
   "display_name": "Python 3 (ipykernel)",
   "language": "python",
   "name": "python3"
  },
  "language_info": {
   "codemirror_mode": {
    "name": "ipython",
    "version": 3
   },
   "file_extension": ".py",
   "mimetype": "text/x-python",
   "name": "python",
   "nbconvert_exporter": "python",
   "pygments_lexer": "ipython3",
   "version": "3.10.6"
  }
 },
 "nbformat": 4,
 "nbformat_minor": 5
}
